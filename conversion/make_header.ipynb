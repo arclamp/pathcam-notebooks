{
 "cells": [
  {
   "cell_type": "markdown",
   "metadata": {},
   "source": [
    "## tifftools reproducability test\n",
    "\n",
    "See next section for generating tiff header from scratch, this is just experimental code with source data"
   ]
  },
  {
   "cell_type": "code",
   "execution_count": 61,
   "metadata": {},
   "outputs": [
    {
     "name": "stdout",
     "output_type": "stream",
     "text": [
      "-- test.tiff --\n",
      "Header: 0x4949 <little-endian> <ClassicTIFF>\n",
      "Directory 0: offset 8 (0x8)\n",
      "  ImageWidth 256 (0x100) LONG: 6464\n",
      "  ImageLength 257 (0x101) LONG: 4852\n",
      "  BitsPerSample 258 (0x102) SHORT: 8\n",
      "  Compression 259 (0x103) SHORT: 1 (None 1 (0x1))\n",
      "  Photometric 262 (0x106) SHORT: 1 (MinIsBlack 1 (0x1))\n",
      "  StripOffsets 273 (0x111) LONG: 122\n",
      "  RowsPerStrip 278 (0x116) LONG: 4852\n",
      "  StripByteCounts 279 (0x117) LONG: 31363328\n",
      "  PlanarConfig 284 (0x11C) SHORT: 1 (Chunky 1 (0x1))\n"
     ]
    },
    {
     "data": {
      "text/plain": [
       "0"
      ]
     },
     "execution_count": 61,
     "metadata": {},
     "output_type": "execute_result"
    }
   ],
   "source": [
    "import os\n",
    "\n",
    "os.system('tifftools dump test.tiff')"
   ]
  },
  {
   "cell_type": "code",
   "execution_count": 62,
   "metadata": {},
   "outputs": [
    {
     "name": "stdout",
     "output_type": "stream",
     "text": [
      "-- recons.tiff --\n",
      "Header: 0x4949 <little-endian> <ClassicTIFF>\n",
      "Directory 0: offset 8 (0x8)\n",
      "  ImageWidth 256 (0x100) LONG: 0\n",
      "  ImageLength 257 (0x101) LONG: 0\n",
      "  BitsPerSample 258 (0x102) SHORT: 8\n",
      "  Compression 259 (0x103) SHORT: 1 (None 1 (0x1))\n",
      "  Photometric 262 (0x106) SHORT: 1 (MinIsBlack 1 (0x1))\n",
      "  StripOffsets 273 (0x111) LONG: 122\n",
      "  RowsPerStrip 278 (0x116) LONG: 0\n",
      "  StripByteCounts 279 (0x117) LONG: 0\n",
      "  PlanarConfig 284 (0x11C) SHORT: 1 (Chunky 1 (0x1))\n"
     ]
    },
    {
     "data": {
      "text/plain": [
       "0"
      ]
     },
     "execution_count": 62,
     "metadata": {},
     "output_type": "execute_result"
    }
   ],
   "source": [
    "cmd = ('tifftools set '\n",
    "      f'--set ImageWidth:LONG 0 '\n",
    "      f'--set ImageLength:LONG 0 '\n",
    "      f'--set RowsPerStrip:LONG 0 '\n",
    "      f'--set StripByteCounts:LONG 0 '\n",
    "       '--set BitsPerSample:SHORT 8 '\n",
    "       '--set Compression:SHORT 1 '\n",
    "       '--set Photometric:SHORT 1 '\n",
    "       '--set PlanarConfig:SHORT 1 '\n",
    "       '--littleendian --ifdsfirst -y test.tiff recons.tiff')\n",
    "os.system(cmd)\n",
    "os.system('tifftools dump recons.tiff')"
   ]
  },
  {
   "cell_type": "code",
   "execution_count": 63,
   "metadata": {},
   "outputs": [],
   "source": [
    "with open('recons.tiff', 'rb') as f:\n",
    "    header = f.read()\n",
    "\n",
    "with open('20240320022317714.Raw', 'rb') as f:\n",
    "    raw = f.read()\n",
    "\n",
    "with open('recons.tiff', 'wb') as f:\n",
    "    f.write(header)\n",
    "    f.write(raw)"
   ]
  },
  {
   "cell_type": "code",
   "execution_count": 64,
   "metadata": {},
   "outputs": [
    {
     "name": "stdout",
     "output_type": "stream",
     "text": [
      "-- recons.tiff --\n",
      "Header: 0x4949 <little-endian> <ClassicTIFF>\n",
      "Directory 0: offset 8 (0x8)\n",
      "  ImageWidth 256 (0x100) LONG: 6464\n",
      "  ImageLength 257 (0x101) LONG: 4852\n",
      "  BitsPerSample 258 (0x102) SHORT: 8\n",
      "  Compression 259 (0x103) SHORT: 1 (None 1 (0x1))\n",
      "  Photometric 262 (0x106) SHORT: 1 (MinIsBlack 1 (0x1))\n",
      "  StripOffsets 273 (0x111) LONG: 122\n",
      "  RowsPerStrip 278 (0x116) LONG: 4852\n",
      "  StripByteCounts 279 (0x117) LONG: 31363328\n",
      "  PlanarConfig 284 (0x11C) SHORT: 1 (Chunky 1 (0x1))\n"
     ]
    },
    {
     "data": {
      "text/plain": [
       "0"
      ]
     },
     "execution_count": 64,
     "metadata": {},
     "output_type": "execute_result"
    }
   ],
   "source": [
    "dims = (6464, 4852)\n",
    "\n",
    "cmd = ('tifftools set '\n",
    "      f'--set ImageWidth:LONG {dims[0]} '\n",
    "      f'--set ImageLength:LONG {dims[1]} '\n",
    "      f'--set RowsPerStrip:LONG {dims[1]} '\n",
    "      f'--set StripByteCounts:LONG {dims[0] * dims[1]} '\n",
    "       '--littleendian --ifdsfirst -y recons.tiff')\n",
    "os.system(cmd)\n",
    "os.system('tifftools dump recons.tiff')"
   ]
  },
  {
   "cell_type": "code",
   "execution_count": 65,
   "metadata": {},
   "outputs": [
    {
     "data": {
      "text/plain": [
       "(31363450, 31363450, True)"
      ]
     },
     "execution_count": 65,
     "metadata": {},
     "output_type": "execute_result"
    }
   ],
   "source": [
    "with open('recons.tiff', 'rb') as f:\n",
    "    recons = f.read()\n",
    "\n",
    "with open('test.tiff', 'rb') as f:\n",
    "    original = f.read()\n",
    "\n",
    "len(original), len(recons), recons == original"
   ]
  },
  {
   "cell_type": "code",
   "execution_count": 98,
   "metadata": {},
   "outputs": [],
   "source": [
    "os.remove('header.tiff')\n",
    "os.remove('recons.tiff')"
   ]
  },
  {
   "cell_type": "markdown",
   "metadata": {},
   "source": [
    "## Generate header from scratch\n",
    "\n",
    "Here we generate a tiff header from scratch using dimensions of the Raw images (in our case 6464x4852)"
   ]
  },
  {
   "cell_type": "code",
   "execution_count": 99,
   "metadata": {},
   "outputs": [
    {
     "name": "stdout",
     "output_type": "stream",
     "text": [
      "-- header.tiff --\n",
      "Header: 0x4949 <little-endian> <ClassicTIFF>\n",
      "Directory 0: offset 8 (0x8)\n",
      "  ImageWidth 256 (0x100) LONG: 0\n",
      "  ImageLength 257 (0x101) LONG: 0\n",
      "  BitsPerSample 258 (0x102) SHORT: 8\n",
      "  Compression 259 (0x103) SHORT: 1 (None 1 (0x1))\n",
      "  Photometric 262 (0x106) SHORT: 32803 (CFA 32803 (0x8023))\n",
      "  StripOffsets 273 (0x111) LONG: 158\n",
      "  RowsPerStrip 278 (0x116) LONG: 0\n",
      "  StripByteCounts 279 (0x117) LONG: 0\n",
      "  PlanarConfig 284 (0x11C) SHORT: 1 (Chunky 1 (0x1))\n",
      "  CFARepeatPatternDim 33421 (0x828D) SHORT: <2> 2 2\n",
      "  CFAPattern 33422 (0x828E) BYTE: <4> 0 1 1 2\n",
      "  DNGVersion 50706 (0xC612) BYTE: <4> 1 4 0 0\n"
     ]
    },
    {
     "data": {
      "text/plain": [
       "0"
      ]
     },
     "execution_count": 99,
     "metadata": {},
     "output_type": "execute_result"
    }
   ],
   "source": [
    "import os\n",
    "dims = (6464, 4852)\n",
    "\n",
    "cmd = ('tifftools set '\n",
    "      f'--set ImageWidth:LONG 0 '\n",
    "      f'--set ImageLength:LONG 0 '\n",
    "      f'--set RowsPerStrip:LONG 0 '\n",
    "      f'--set StripByteCounts:LONG 0 '\n",
    "       '--set BitsPerSample:SHORT 8 '\n",
    "       '--set Compression:SHORT 1 '\n",
    "       '--set PlanarConfig:SHORT 1 '\n",
    "      # Set CFA metadate for raw image\n",
    "       '--set Photometric:SHORT 32803 ' # CFA\n",
    "       '--set CFARepeatPatternDim:SHORT 2,2 '\n",
    "       '--set CFAPattern:BYTE 0,1,1,2 '\n",
    "       '--set DNGVersion:BYTE 1,4,0,0 '\n",
    "       '--littleendian --ifdsfirst -y header.bin header.tiff')\n",
    "os.system(cmd)\n",
    "os.system('tifftools dump header.tiff')"
   ]
  },
  {
   "cell_type": "code",
   "execution_count": 100,
   "metadata": {},
   "outputs": [
    {
     "name": "stdout",
     "output_type": "stream",
     "text": [
      "-- header.tiff --\n",
      "Header: 0x4949 <little-endian> <ClassicTIFF>\n",
      "Directory 0: offset 8 (0x8)\n",
      "  ImageWidth 256 (0x100) LONG: 6464\n",
      "  ImageLength 257 (0x101) LONG: 4852\n",
      "  BitsPerSample 258 (0x102) SHORT: 8\n",
      "  Compression 259 (0x103) SHORT: 1 (None 1 (0x1))\n",
      "  Photometric 262 (0x106) SHORT: 32803 (CFA 32803 (0x8023))\n",
      "  StripOffsets 273 (0x111) LONG: 0\n",
      "  RowsPerStrip 278 (0x116) LONG: 4852\n",
      "  StripByteCounts 279 (0x117) LONG: 31363328\n",
      "  PlanarConfig 284 (0x11C) SHORT: 1 (Chunky 1 (0x1))\n",
      "  CFARepeatPatternDim 33421 (0x828D) SHORT: <2> 2 2\n",
      "  CFAPattern 33422 (0x828E) BYTE: <4> 0 1 1 2\n",
      "  DNGVersion 50706 (0xC612) BYTE: <4> 1 4 0 0\n"
     ]
    },
    {
     "name": "stderr",
     "output_type": "stream",
     "text": [
      "WARNING:tifftools.tifftools:Cannot read 31363328 (0x1de9100) bytes from desired offset 158 (0x9e).\n",
      "WARNING:tifftools.tifftools:Cannot read 31363328 (0x1de9100) bytes from desired offset 158 (0x9e).\n",
      "WARNING:tifftools.tifftools:Cannot read 31363328 (0x1de9100) bytes from desired offset 158 (0x9e).\n"
     ]
    },
    {
     "data": {
      "text/plain": [
       "0"
      ]
     },
     "execution_count": 100,
     "metadata": {},
     "output_type": "execute_result"
    }
   ],
   "source": [
    "# set the dimensions for the raw image (this will raise warnings since we haven't set any actual data)\n",
    "cmd = ('tifftools set '\n",
    "      f'--set ImageWidth:LONG {dims[0]} '\n",
    "      f'--set ImageLength:LONG {dims[1]} '\n",
    "      f'--set RowsPerStrip:LONG {dims[1]} '\n",
    "      f'--set StripByteCounts:LONG {dims[0] * dims[1]} '\n",
    "       '--littleendian --ifdsfirst -y header.tiff')\n",
    "os.system(cmd)\n",
    "os.system('tifftools dump header.tiff')"
   ]
  },
  {
   "cell_type": "code",
   "execution_count": 101,
   "metadata": {},
   "outputs": [
    {
     "name": "stdout",
     "output_type": "stream",
     "text": [
      "158\n"
     ]
    }
   ],
   "source": [
    "with open('header.tiff', 'rb') as f:\n",
    "    header = f.read()\n",
    "\n",
    "header_len = len(header)\n",
    "print(header_len)\n",
    "\n",
    "with open('../tulane_images/source/20240320022317714.Raw', 'rb') as f:\n",
    "    raw = f.read()\n",
    "\n",
    "# write concat a raw image to the header, this is needed to properly set the StripOffsets tag\n",
    "with open('header.tiff', 'wb') as f:\n",
    "    f.write(header)\n",
    "    f.write(raw)"
   ]
  },
  {
   "cell_type": "code",
   "execution_count": 102,
   "metadata": {},
   "outputs": [
    {
     "name": "stdout",
     "output_type": "stream",
     "text": [
      "-- header.tiff --\n",
      "Header: 0x4949 <little-endian> <ClassicTIFF>\n",
      "Directory 0: offset 8 (0x8)\n",
      "  ImageWidth 256 (0x100) LONG: 6464\n",
      "  ImageLength 257 (0x101) LONG: 4852\n",
      "  BitsPerSample 258 (0x102) SHORT: 8\n",
      "  Compression 259 (0x103) SHORT: 1 (None 1 (0x1))\n",
      "  Photometric 262 (0x106) SHORT: 32803 (CFA 32803 (0x8023))\n",
      "  StripOffsets 273 (0x111) LONG: 0\n",
      "  RowsPerStrip 278 (0x116) LONG: 4852\n",
      "  StripByteCounts 279 (0x117) LONG: 31363328\n",
      "  PlanarConfig 284 (0x11C) SHORT: 1 (Chunky 1 (0x1))\n",
      "  CFARepeatPatternDim 33421 (0x828D) SHORT: <2> 2 2\n",
      "  CFAPattern 33422 (0x828E) BYTE: <4> 0 1 1 2\n",
      "  DNGVersion 50706 (0xC612) BYTE: <4> 1 4 0 0\n"
     ]
    },
    {
     "data": {
      "text/plain": [
       "0"
      ]
     },
     "execution_count": 102,
     "metadata": {},
     "output_type": "execute_result"
    }
   ],
   "source": [
    "os.system('tifftools dump header.tiff')"
   ]
  },
  {
   "cell_type": "code",
   "execution_count": 103,
   "metadata": {},
   "outputs": [
    {
     "name": "stdout",
     "output_type": "stream",
     "text": [
      "-- header.tiff --\n",
      "Header: 0x4949 <little-endian> <ClassicTIFF>\n",
      "Directory 0: offset 8 (0x8)\n",
      "  ImageWidth 256 (0x100) LONG: 6464\n",
      "  ImageLength 257 (0x101) LONG: 4852\n",
      "  BitsPerSample 258 (0x102) SHORT: 8\n",
      "  Compression 259 (0x103) SHORT: 1 (None 1 (0x1))\n",
      "  Photometric 262 (0x106) SHORT: 32803 (CFA 32803 (0x8023))\n",
      "  StripOffsets 273 (0x111) LONG: 158\n",
      "  RowsPerStrip 278 (0x116) LONG: 4852\n",
      "  StripByteCounts 279 (0x117) LONG: 31363328\n",
      "  PlanarConfig 284 (0x11C) SHORT: 1 (Chunky 1 (0x1))\n",
      "  CFARepeatPatternDim 33421 (0x828D) SHORT: <2> 2 2\n",
      "  CFAPattern 33422 (0x828E) BYTE: <4> 0 1 1 2\n",
      "  DNGVersion 50706 (0xC612) BYTE: <4> 1 4 0 0\n"
     ]
    },
    {
     "data": {
      "text/plain": [
       "0"
      ]
     },
     "execution_count": 103,
     "metadata": {},
     "output_type": "execute_result"
    }
   ],
   "source": [
    "cmd = ('tifftools set '\n",
    "      f'--set StripOffsets:LONG {header_len} '\n",
    "       '--littleendian --ifdsfirst -y header.tiff')\n",
    "os.system(cmd)\n",
    "os.system('tifftools dump header.tiff')"
   ]
  },
  {
   "cell_type": "code",
   "execution_count": 104,
   "metadata": {},
   "outputs": [
    {
     "name": "stdout",
     "output_type": "stream",
     "text": [
      "-- header.bin --\n",
      "Header: 0x4949 <little-endian> <ClassicTIFF>\n",
      "Directory 0: offset 8 (0x8)\n",
      "  ImageWidth 256 (0x100) LONG: 6464\n",
      "  ImageLength 257 (0x101) LONG: 4852\n",
      "  BitsPerSample 258 (0x102) SHORT: 8\n",
      "  Compression 259 (0x103) SHORT: 1 (None 1 (0x1))\n",
      "  Photometric 262 (0x106) SHORT: 32803 (CFA 32803 (0x8023))\n",
      "  StripOffsets 273 (0x111) LONG: 158\n",
      "  RowsPerStrip 278 (0x116) LONG: 4852\n",
      "  StripByteCounts 279 (0x117) LONG: 31363328\n",
      "  PlanarConfig 284 (0x11C) SHORT: 1 (Chunky 1 (0x1))\n",
      "  CFARepeatPatternDim 33421 (0x828D) SHORT: <2> 2 2\n",
      "  CFAPattern 33422 (0x828E) BYTE: <4> 0 1 1 2\n",
      "  DNGVersion 50706 (0xC612) BYTE: <4> 1 4 0 0\n"
     ]
    },
    {
     "data": {
      "text/plain": [
       "0"
      ]
     },
     "execution_count": 104,
     "metadata": {},
     "output_type": "execute_result"
    }
   ],
   "source": [
    "with open('header.tiff', 'rb') as f:\n",
    "    header = f.read()\n",
    "\n",
    "with open('header.bin', 'wb') as f:\n",
    "    f.write(recons[:header_len])\n",
    "\n",
    "os.system('tifftools dump header.bin')"
   ]
  }
 ],
 "metadata": {
  "kernelspec": {
   "display_name": "venv",
   "language": "python",
   "name": "python3"
  },
  "language_info": {
   "codemirror_mode": {
    "name": "ipython",
    "version": 3
   },
   "file_extension": ".py",
   "mimetype": "text/x-python",
   "name": "python",
   "nbconvert_exporter": "python",
   "pygments_lexer": "ipython3",
   "version": "3.11.8"
  }
 },
 "nbformat": 4,
 "nbformat_minor": 2
}
