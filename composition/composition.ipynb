{
 "cells": [
  {
   "cell_type": "code",
   "execution_count": 1,
   "metadata": {},
   "outputs": [],
   "source": [
    "with open('../tulane_images/source/AbsolutePixelCoordinate.txt', 'r') as f:\n",
    "    lines = f.readlines()"
   ]
  },
  {
   "cell_type": "code",
   "execution_count": null,
   "metadata": {},
   "outputs": [],
   "source": [
    "items = [x.strip().split(' ') for x in lines]\n",
    "\n",
    "from ast import literal_eval\n",
    "\n",
    "items = [(x[0].split('.')[0], literal_eval(x[1])) for x in items]\n",
    "items"
   ]
  },
  {
   "cell_type": "code",
   "execution_count": 50,
   "metadata": {},
   "outputs": [],
   "source": [
    "source_list = []\n",
    "for item in items:\n",
    "    file_name = f'{item[0]}.tiff'\n",
    "    source_list.append({\n",
    "        'path': f'./{file_name}',\n",
    "        'z': 0,\n",
    "        'position': {\n",
    "            'x': round(item[1][0]),\n",
    "            'y': round(item[1][1]),\n",
    "            'scale': 1\n",
    "        },\n",
    "        'params': {'style': {'bands': [\n",
    "            {'palette': '#f00', 'band': 1},\n",
    "            {'palette': '#0f0', 'band': 2},\n",
    "            {'palette': '#00f', 'band': 3},\n",
    "            {\n",
    "                'palette': ['#fff0', '#ffff'],\n",
    "                'band': 4,\n",
    "                'composite': 'multiply'\n",
    "            }\n",
    "        ]}}\n",
    "    })\n",
    "# source_list"
   ]
  },
  {
   "cell_type": "code",
   "execution_count": 52,
   "metadata": {},
   "outputs": [],
   "source": [
    "import yaml\n",
    "yaml_str = f'---\\n{yaml.dump({\"sources\": source_list[:10]})}'\n",
    "\n",
    "with open('../tulane_images/libraw_demosaic/composed.yaml', 'w') as f:\n",
    "    f.write(yaml_str)"
   ]
  },
  {
   "cell_type": "code",
   "execution_count": null,
   "metadata": {},
   "outputs": [],
   "source": [
    "from PIL import Image, ImageDraw, ImageFilter\n",
    "\n",
    "size = (6464, 4852)\n",
    "mask = Image.new('L', size, 0)\n",
    "draw = ImageDraw.Draw(mask)\n",
    "\n",
    "pad = (400, 500)\n",
    "draw.ellipse((0 - pad[0], 0 - pad[1], size[0] + pad[0], size[1] + pad[1]), fill=255)\n",
    "\n",
    "mask\n",
    "\n",
    "# mask_blur = mask.filter(ImageFilter.GaussianBlur(00))\n",
    "# mask_blur"
   ]
  },
  {
   "cell_type": "code",
   "execution_count": null,
   "metadata": {},
   "outputs": [],
   "source": [
    "source = Image.open('../tulane_images/libraw_demosaic/20240320022318250.tiff')\n",
    "source"
   ]
  },
  {
   "cell_type": "code",
   "execution_count": null,
   "metadata": {},
   "outputs": [],
   "source": [
    "rgba = source.copy()\n",
    "\n",
    "rgba.putalpha(mask)\n",
    "\n",
    "rgba"
   ]
  },
  {
   "cell_type": "code",
   "execution_count": 43,
   "metadata": {},
   "outputs": [],
   "source": [
    "for item in items:\n",
    "    file_name = f'{item[0]}.tiff'\n",
    "    source = Image.open(f'../tulane_images/libraw_demosaic/{file_name}')\n",
    "    rgba = source.copy()\n",
    "    rgba.putalpha(mask)\n",
    "    rgba.save(f'../tulane_images/masked/{file_name}')\n"
   ]
  }
 ],
 "metadata": {
  "kernelspec": {
   "display_name": "venv",
   "language": "python",
   "name": "python3"
  },
  "language_info": {
   "codemirror_mode": {
    "name": "ipython",
    "version": 3
   },
   "file_extension": ".py",
   "mimetype": "text/x-python",
   "name": "python",
   "nbconvert_exporter": "python",
   "pygments_lexer": "ipython3",
   "version": "3.11.8"
  }
 },
 "nbformat": 4,
 "nbformat_minor": 2
}
